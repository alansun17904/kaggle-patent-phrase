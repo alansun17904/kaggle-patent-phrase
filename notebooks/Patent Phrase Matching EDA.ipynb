{
 "cells": [
  {
   "cell_type": "markdown",
   "id": "43a1e85e",
   "metadata": {},
   "source": [
    "# Patent Phrase Matching EDA"
   ]
  },
  {
   "cell_type": "code",
   "execution_count": 7,
   "id": "1f91d7b4",
   "metadata": {},
   "outputs": [],
   "source": [
    "import numpy as np\n",
    "import pandas as pd\n",
    "from pathlib import Path\n",
    "import matplotlib.pyplot as plt"
   ]
  },
  {
   "cell_type": "code",
   "execution_count": 8,
   "id": "0e8e5a36",
   "metadata": {},
   "outputs": [],
   "source": [
    "ROOT = Path('..')"
   ]
  },
  {
   "cell_type": "code",
   "execution_count": 5,
   "id": "ae073568",
   "metadata": {},
   "outputs": [],
   "source": [
    "df = pd.read_csv(ROOT / 'train.csv')"
   ]
  },
  {
   "cell_type": "code",
   "execution_count": 12,
   "id": "54885c73",
   "metadata": {},
   "outputs": [
    {
     "data": {
      "text/plain": [
       "array(['A47', 'A61', 'A62', 'C01', 'F16', 'F24', 'F28', 'H01', 'H04',\n",
       "       'B23', 'B41', 'D03', 'E03', 'C08', 'D01', 'D21', 'C07', 'A45',\n",
       "       'B01', 'B08', 'G04', 'G06', 'B65', 'G16', 'G01', 'A41', 'C23',\n",
       "       'F23', 'B25', 'A63', 'B28', 'B63', 'F04', 'B60', 'B32', 'C09',\n",
       "       'C02', 'G03', 'C10', 'B61', 'C21', 'F42', 'A23', 'C11', 'B29',\n",
       "       'F02', 'B62', 'B64', 'E21', 'B24', 'B22', 'H05', 'B27', 'E04',\n",
       "       'B21', 'D06', 'C04', 'B05', 'G02', 'H03', 'C06', 'G11', 'C12',\n",
       "       'E02', 'F15', 'A46', 'B66', 'G07', 'G08', 'C22', 'B44', 'A01',\n",
       "       'F03', 'C25', 'F22', 'G05', 'G21', 'B07', 'F41', 'E01', 'H02',\n",
       "       'C13', 'F01', 'F27', 'C14', 'A44', 'B67', 'A24', 'B02', 'E05',\n",
       "       'D05', 'F25', 'A43', 'A22', 'A21', 'E06', 'F21', 'G10', 'C03',\n",
       "       'B81', 'F17', 'B03', 'G09', 'D04', 'F26', 'B31'], dtype=object)"
      ]
     },
     "execution_count": 12,
     "metadata": {},
     "output_type": "execute_result"
    }
   ],
   "source": [
    "# Check the total number of unqiue classes and the distribution of these classes\n",
    "df.context.unique()"
   ]
  },
  {
   "cell_type": "code",
   "execution_count": null,
   "id": "7e6b0784",
   "metadata": {},
   "outputs": [],
   "source": []
  }
 ],
 "metadata": {
  "kernelspec": {
   "display_name": "Python 3 (ipykernel)",
   "language": "python",
   "name": "python3"
  },
  "language_info": {
   "codemirror_mode": {
    "name": "ipython",
    "version": 3
   },
   "file_extension": ".py",
   "mimetype": "text/x-python",
   "name": "python",
   "nbconvert_exporter": "python",
   "pygments_lexer": "ipython3",
   "version": "3.9.7"
  }
 },
 "nbformat": 4,
 "nbformat_minor": 5
}
